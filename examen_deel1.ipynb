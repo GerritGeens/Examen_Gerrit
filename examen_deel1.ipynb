{
 "cells": [
  {
   "cell_type": "markdown",
   "metadata": {},
   "source": [
    "# Examen Python data developer\n",
    "# Deel 1\n",
    "## Introductie\n",
    "Voor dit examen is het belangrijk dat je volgende zaken zeker doet:\n",
    " - Maak een Vitual Environment aan & exporteer een `.yml` (of soortgelijke) file aan die je toevoegt aan je codebase.\n",
    " - Maak een github pagina aan met een bijhorende `.gitignore` en `readme.md`. Voeg een link naar de github repo toe aan je readme file.\n",
    " - Zorg dat je op het einde de tijd neemt om je code op te schonen zodat deze begrijpelijk is voor derden.\n",
    " - Wanneer je klaar bent, maak een `.zip` bestand van je volledige codebase aan en laad deze op in de leeromgeving.\n",
    "\n",
    "In deze opgave bekijken we een gesimuleerde dataset over de geboortes in België van 2019. De data is te vinden in `.csv` bestanden die gelabeld zijn met de echte geboortedag van de personen in het bestand. Laat ons bijvoorbeeld even kijken naar de eerste 5 lijnen van het bestand `2019-1-1.csv`:\n",
    "\n",
    "<table align=\"center\">\n",
    "  <tr>\n",
    "    <th>gemeente</th>\n",
    "    <th>naam</th>\n",
    "    <th>geslacht</th>\n",
    "    <th>verwachte datum</th>\n",
    "  </tr>\n",
    "  <tr>\n",
    "    <td>Hooglede</td>\n",
    "    <td>Elias</td>\n",
    "    <td>Mannelijk</td>\n",
    "    <td>01/14/2019</td>\n",
    "  </tr>\n",
    "  <tr>\n",
    "    <td>Sint-Niklaas (Sint-Niklaas)</td>\n",
    "    <td>Pauline</td>\n",
    "    <td>Vrouwelijk</td>\n",
    "    <td>01/05/2019</td>\n",
    "  </tr>\n",
    "  <tr>\n",
    "    <td>Wijnegem</td>\n",
    "    <td>Anita</td>\n",
    "    <td>Vrouwelijk</td>\n",
    "    <td>01/05/2019</td>\n",
    "  </tr>\n",
    "  <tr>\n",
    "    <td>Grâce-Hollogne</td>\n",
    "    <td>Jean-Paul</td>\n",
    "    <td>Mannelijk</td>\n",
    "    <td>01/13/2019</td>\n",
    "  </tr>\n",
    "  <tr>\n",
    "    <td>Boussu</td>\n",
    "    <td>François</td>\n",
    "    <td>Mannelijk</td>\n",
    "    <td>01/26/2019</td>\n",
    "  </tr>\n",
    "</table>\n",
    "\n",
    "\n",
    "Hier hebben we de kolommen:\n",
    " - **gemeente**: De gemeente waar de persoon geboren is.\n",
    " - **naam**: De voornaam van de persoon.\n",
    " - **geslacht**: Het geslacht van de persoon (Mannelijk of Vrouwelijk).\n",
    " - **verwachte datum**: De verwachte geboortedatum van de persoon.\n",
    "\n",
    "Dus hier hebben we dan bijvoorbeeld op de eerste lijn de mannelijke persoon Elias die geboren is in Hooglede waarvan men verwachtte dat hij zou geboren worden op `01/14/2019` (Amerikaans formaat) maar in feite geboren is op 1 januari 2019.\n",
    "\n",
    "Doorheen deze opgave gaan we de data van dichterbij inspecteren! Je kan deze opgaves alternatief lezen in de bijgeleverde notebook `examen.ipynb` waar ook de (meeste) afbeeldingen & resultaten zichtbaar zijn."
   ]
  },
  {
   "cell_type": "code",
   "execution_count": 1,
   "metadata": {},
   "outputs": [],
   "source": [
    "# Import packages\n",
    "import pandas as pd \n",
    "import os\n",
    "import pandas as pd\n",
    "import matplotlib.pyplot as plt\n",
    "import datetime \n",
    "import numpy as np \n",
    "\n",
    "\n",
    "# Definieer data locaties\n",
    "INPUT_FOLDER = os.path.join(\"data\")"
   ]
  },
  {
   "cell_type": "markdown",
   "metadata": {},
   "source": [
    "## Utilities"
   ]
  },
  {
   "cell_type": "code",
   "execution_count": 2,
   "metadata": {},
   "outputs": [],
   "source": [
    "def to_percentage(number):\n",
    "    return str(np.round(number * 100, 2)) + \"%\"\n",
    "\n",
    "def compute_num_unique(df, n_births):\n",
    "    return len(np.unique(df['naam'].sample(n_births)))"
   ]
  },
  {
   "cell_type": "markdown",
   "metadata": {},
   "source": [
    "## Stap 1: data inlezen\n",
    "\n",
    "Maak een lus over alle bestanden in de map `data/geboortes`, lees elk `.csv` bestand in en voeg deze samen tot 1 grote DataFrame. Merk op dat de datum verwerkt zit in de filename, voeg deze toe aan de kleine DataFrames voor je de dataframes samenvoegt met een `pd.concat(dfs)`.\n",
    "\n",
    "Voeg een extra kolom toe met een `\"dag van het jaar\"` getal, dus 1 januari 2019 is `1`, 2 januari 2019 is `2`, enzovoort.\n",
    "\n",
    "**Opmerking**: Er is ook data voor 29 februari 2019, terwijl dit geen schrikkeljaar is! Plaats deze geboortes in een afzonderlijke DataFrame `df_wrong`. Zet in `df_wrong` een extra kolom met een referentie naar waarom deze data foutief is."
   ]
  },
  {
   "cell_type": "code",
   "execution_count": 3,
   "metadata": {},
   "outputs": [],
   "source": [
    "# Initialize an empty list to store the DataFrames\n",
    "df_list = []\n",
    "df_list_wrong = []\n",
    "\n",
    "# Loop through each file in the folder\n",
    "for filename in os.listdir(INPUT_FOLDER):\n",
    "    if filename.endswith('.csv'):  \n",
    "        file_path = os.path.join(INPUT_FOLDER, filename)\n",
    "        df = pd.read_csv(file_path)  # Modify as needed (e.g., pd.read_excel() for Excel files)\n",
    "        \n",
    "        # Add a new column with the filename, as it contains the actual birth date\n",
    "        base_filename = os.path.splitext(filename)[0]\n",
    "        df['werkelijke_datum'] = base_filename\n",
    "        \n",
    "        try :\n",
    "            # Convert the 'date' column to datetime format\n",
    "            df['day_of_year'] = pd.to_datetime(df['werkelijke_datum'], format='%Y-%m-%d').dt.dayofyear\n",
    "        \n",
    "            # Append the DataFrame to the list\n",
    "            df_list.append(df)\n",
    "        except :\n",
    "            df['error_reason'] = 'no valid birthday'\n",
    "            df_list_wrong.append(df)\n",
    "            \n",
    "\n",
    "# Concatenate all the DataFrames in the list into one large DataFrame\n",
    "big_df = pd.concat(df_list, ignore_index=True)\n",
    "wrong_df = pd.concat(df_list_wrong, ignore_index=True)\n"
   ]
  },
  {
   "cell_type": "code",
   "execution_count": 4,
   "metadata": {},
   "outputs": [
    {
     "data": {
      "text/html": [
       "<div>\n",
       "<style scoped>\n",
       "    .dataframe tbody tr th:only-of-type {\n",
       "        vertical-align: middle;\n",
       "    }\n",
       "\n",
       "    .dataframe tbody tr th {\n",
       "        vertical-align: top;\n",
       "    }\n",
       "\n",
       "    .dataframe thead th {\n",
       "        text-align: right;\n",
       "    }\n",
       "</style>\n",
       "<table border=\"1\" class=\"dataframe\">\n",
       "  <thead>\n",
       "    <tr style=\"text-align: right;\">\n",
       "      <th></th>\n",
       "      <th>gemeente</th>\n",
       "      <th>naam</th>\n",
       "      <th>geslacht</th>\n",
       "      <th>verwachte datum</th>\n",
       "      <th>werkelijke_datum</th>\n",
       "      <th>error_reason</th>\n",
       "    </tr>\n",
       "  </thead>\n",
       "  <tbody>\n",
       "    <tr>\n",
       "      <th>0</th>\n",
       "      <td>Kruisem</td>\n",
       "      <td>Patrick</td>\n",
       "      <td>Mannelijk</td>\n",
       "      <td>02/27/2019</td>\n",
       "      <td>2019-2-29</td>\n",
       "      <td>no valid birthday</td>\n",
       "    </tr>\n",
       "    <tr>\n",
       "      <th>1</th>\n",
       "      <td>Montigny-le-Tilleul</td>\n",
       "      <td>Sarah</td>\n",
       "      <td>Vrouwelijk</td>\n",
       "      <td>03/11/2019</td>\n",
       "      <td>2019-2-29</td>\n",
       "      <td>no valid birthday</td>\n",
       "    </tr>\n",
       "    <tr>\n",
       "      <th>2</th>\n",
       "      <td>Diepenbeek</td>\n",
       "      <td>Valentinus</td>\n",
       "      <td>Mannelijk</td>\n",
       "      <td>03/02/2019</td>\n",
       "      <td>2019-2-29</td>\n",
       "      <td>no valid birthday</td>\n",
       "    </tr>\n",
       "    <tr>\n",
       "      <th>3</th>\n",
       "      <td>Sint-Jans-Molenbeek</td>\n",
       "      <td>El</td>\n",
       "      <td>Mannelijk</td>\n",
       "      <td>02/27/2019</td>\n",
       "      <td>2019-2-29</td>\n",
       "      <td>no valid birthday</td>\n",
       "    </tr>\n",
       "    <tr>\n",
       "      <th>4</th>\n",
       "      <td>Overijse</td>\n",
       "      <td>Apolline</td>\n",
       "      <td>Vrouwelijk</td>\n",
       "      <td>03/03/2019</td>\n",
       "      <td>2019-2-29</td>\n",
       "      <td>no valid birthday</td>\n",
       "    </tr>\n",
       "  </tbody>\n",
       "</table>\n",
       "</div>"
      ],
      "text/plain": [
       "              gemeente        naam    geslacht verwachte datum  \\\n",
       "0              Kruisem     Patrick   Mannelijk      02/27/2019   \n",
       "1  Montigny-le-Tilleul       Sarah  Vrouwelijk      03/11/2019   \n",
       "2           Diepenbeek  Valentinus   Mannelijk      03/02/2019   \n",
       "3  Sint-Jans-Molenbeek          El   Mannelijk      02/27/2019   \n",
       "4             Overijse    Apolline  Vrouwelijk      03/03/2019   \n",
       "\n",
       "  werkelijke_datum       error_reason  \n",
       "0        2019-2-29  no valid birthday  \n",
       "1        2019-2-29  no valid birthday  \n",
       "2        2019-2-29  no valid birthday  \n",
       "3        2019-2-29  no valid birthday  \n",
       "4        2019-2-29  no valid birthday  "
      ]
     },
     "execution_count": 4,
     "metadata": {},
     "output_type": "execute_result"
    }
   ],
   "source": [
    "wrong_df.head()"
   ]
  },
  {
   "cell_type": "code",
   "execution_count": 5,
   "metadata": {},
   "outputs": [
    {
     "data": {
      "text/html": [
       "<div>\n",
       "<style scoped>\n",
       "    .dataframe tbody tr th:only-of-type {\n",
       "        vertical-align: middle;\n",
       "    }\n",
       "\n",
       "    .dataframe tbody tr th {\n",
       "        vertical-align: top;\n",
       "    }\n",
       "\n",
       "    .dataframe thead th {\n",
       "        text-align: right;\n",
       "    }\n",
       "</style>\n",
       "<table border=\"1\" class=\"dataframe\">\n",
       "  <thead>\n",
       "    <tr style=\"text-align: right;\">\n",
       "      <th></th>\n",
       "      <th>day_of_year</th>\n",
       "    </tr>\n",
       "  </thead>\n",
       "  <tbody>\n",
       "    <tr>\n",
       "      <th>count</th>\n",
       "      <td>116850.000000</td>\n",
       "    </tr>\n",
       "    <tr>\n",
       "      <th>mean</th>\n",
       "      <td>180.647069</td>\n",
       "    </tr>\n",
       "    <tr>\n",
       "      <th>std</th>\n",
       "      <td>104.452395</td>\n",
       "    </tr>\n",
       "    <tr>\n",
       "      <th>min</th>\n",
       "      <td>1.000000</td>\n",
       "    </tr>\n",
       "    <tr>\n",
       "      <th>25%</th>\n",
       "      <td>91.000000</td>\n",
       "    </tr>\n",
       "    <tr>\n",
       "      <th>50%</th>\n",
       "      <td>180.000000</td>\n",
       "    </tr>\n",
       "    <tr>\n",
       "      <th>75%</th>\n",
       "      <td>270.000000</td>\n",
       "    </tr>\n",
       "    <tr>\n",
       "      <th>max</th>\n",
       "      <td>365.000000</td>\n",
       "    </tr>\n",
       "  </tbody>\n",
       "</table>\n",
       "</div>"
      ],
      "text/plain": [
       "         day_of_year\n",
       "count  116850.000000\n",
       "mean      180.647069\n",
       "std       104.452395\n",
       "min         1.000000\n",
       "25%        91.000000\n",
       "50%       180.000000\n",
       "75%       270.000000\n",
       "max       365.000000"
      ]
     },
     "execution_count": 5,
     "metadata": {},
     "output_type": "execute_result"
    }
   ],
   "source": [
    "big_df.describe()"
   ]
  },
  {
   "cell_type": "markdown",
   "metadata": {},
   "source": [
    "## Stap 2: Dagelijks aantal geboortes bekijken\n",
    "#### Vraag 1: Maak een plot van het aantal geboortes per dag van het jaar. "
   ]
  },
  {
   "cell_type": "code",
   "execution_count": 6,
   "metadata": {},
   "outputs": [
    {
     "data": {
      "text/plain": [
       "[<matplotlib.lines.Line2D at 0x271db9f1a10>]"
      ]
     },
     "execution_count": 6,
     "metadata": {},
     "output_type": "execute_result"
    },
    {
     "data": {
      "image/png": "[encoded data removed]",
      "text/plain": [
       "<Figure size 1200x400 with 1 Axes>"
      ]
     },
     "metadata": {},
     "output_type": "display_data"
    }
   ],
   "source": [
    "fig, ax = plt.subplots(figsize = (12,4))\n",
    "\n",
    "ax.spines['right'].set_visible(False)\n",
    "ax.spines['top'].set_visible(False)\n",
    "\n",
    "\n",
    "df_births_per_date = big_df.groupby('day_of_year').size().reset_index(name='aantal geboortes')\n",
    "\n",
    "plt.xlabel(\"dag van het jaar\")\n",
    "plt.plot(df_births_per_date[\"day_of_year\"], df_births_per_date[\"aantal geboortes\"])\n",
    "\n"
   ]
  },
  {
   "cell_type": "markdown",
   "metadata": {},
   "source": [
    "##"
   ]
  },
  {
   "cell_type": "markdown",
   "metadata": {},
   "source": [
    "#### Vraag 2: Outliers vinden & behandelen\n",
    "\n",
    "We klassificeren een datum als een outlier als het aantal geboortes meer dan `50%` afwijkt van de gemiddelde waarde overheen de volledige dataset. Zoek alle outliers in de dataset."
   ]
  },
  {
   "cell_type": "code",
   "execution_count": 7,
   "metadata": {},
   "outputs": [],
   "source": [
    "avg_aantal_geboortes = df_births_per_date[\"aantal geboortes\"].mean()\n",
    "onder_is_outlier = avg_aantal_geboortes / 2 \n",
    "boven_is_outlier = avg_aantal_geboortes * 1.5\n",
    "\n",
    "df_zonder_outliers = ( df_births_per_date[((df_births_per_date[\"aantal geboortes\"] >= onder_is_outlier) & \n",
    "                                           (df_births_per_date[\"aantal geboortes\"] <= boven_is_outlier))] ).copy()\n",
    "\n",
    "df_met_outliers = ( df_births_per_date[((df_births_per_date[\"aantal geboortes\"] <= onder_is_outlier) | \n",
    "                                           (df_births_per_date[\"aantal geboortes\"] >= boven_is_outlier))] ).copy()"
   ]
  },
  {
   "cell_type": "code",
   "execution_count": 8,
   "metadata": {},
   "outputs": [
    {
     "data": {
      "text/html": [
       "<div>\n",
       "<style scoped>\n",
       "    .dataframe tbody tr th:only-of-type {\n",
       "        vertical-align: middle;\n",
       "    }\n",
       "\n",
       "    .dataframe tbody tr th {\n",
       "        vertical-align: top;\n",
       "    }\n",
       "\n",
       "    .dataframe thead th {\n",
       "        text-align: right;\n",
       "    }\n",
       "</style>\n",
       "<table border=\"1\" class=\"dataframe\">\n",
       "  <thead>\n",
       "    <tr style=\"text-align: right;\">\n",
       "      <th></th>\n",
       "      <th>day_of_year</th>\n",
       "      <th>aantal geboortes</th>\n",
       "    </tr>\n",
       "  </thead>\n",
       "  <tbody>\n",
       "    <tr>\n",
       "      <th>0</th>\n",
       "      <td>1</td>\n",
       "      <td>534</td>\n",
       "    </tr>\n",
       "    <tr>\n",
       "      <th>181</th>\n",
       "      <td>182</td>\n",
       "      <td>923</td>\n",
       "    </tr>\n",
       "  </tbody>\n",
       "</table>\n",
       "</div>"
      ],
      "text/plain": [
       "     day_of_year  aantal geboortes\n",
       "0              1               534\n",
       "181          182               923"
      ]
     },
     "execution_count": 8,
     "metadata": {},
     "output_type": "execute_result"
    }
   ],
   "source": [
    "df_met_outliers"
   ]
  },
  {
   "cell_type": "markdown",
   "metadata": {},
   "source": [
    "Ik zal je vertellen; de outliers op 1 januari en 1 juli komen doordat alle geboortes waarvoor de datum niet correct genoteerd is, de datum 1 januari (voor de eerste helft van het jaar) en op 1 juli (voor de tweede helft van het jaar) geplaatst worden. Om dit op te lossen, halen we in de grote geboortes DataFrame (met 1 lijn per geboorte) deze twee datums er volledig uit. Dus we gaan **alle** geboortes van 1 januari en 1 juli verwijderen uit deze dataframe en toevoegen aan de `df_wrong` dataframe met als reden `2019-01-01` en `2019-07-01`."
   ]
  },
  {
   "cell_type": "code",
   "execution_count": 9,
   "metadata": {},
   "outputs": [
    {
     "name": "stdout",
     "output_type": "stream",
     "text": [
      "1\n",
      "182\n"
     ]
    }
   ],
   "source": [
    "for foute_dag in df_met_outliers[\"day_of_year\"].unique() : \n",
    "    \n",
    "    rows_to_remove = big_df[(big_df[\"day_of_year\"] == foute_dag)].copy()\n",
    "    rows_to_remove[\"error_reason\"] = \"hier moet ik nog de conversie maken naar het juiste formaat van de de foute dag\"\n",
    "    rows_to_remove = rows_to_remove.drop(\"day_of_year\", axis=1)\n",
    "    \n",
    "    wrong_df = pd.concat([wrong_df, rows_to_remove], ignore_index=True)\n",
    "    big_df = big_df[(big_df[\"day_of_year\"] != foute_dag)]\n",
    "        \n",
    "    print(foute_dag)\n"
   ]
  },
  {
   "cell_type": "code",
   "execution_count": 10,
   "metadata": {},
   "outputs": [
    {
     "data": {
      "text/html": [
       "<div>\n",
       "<style scoped>\n",
       "    .dataframe tbody tr th:only-of-type {\n",
       "        vertical-align: middle;\n",
       "    }\n",
       "\n",
       "    .dataframe tbody tr th {\n",
       "        vertical-align: top;\n",
       "    }\n",
       "\n",
       "    .dataframe thead th {\n",
       "        text-align: right;\n",
       "    }\n",
       "</style>\n",
       "<table border=\"1\" class=\"dataframe\">\n",
       "  <thead>\n",
       "    <tr style=\"text-align: right;\">\n",
       "      <th></th>\n",
       "      <th>gemeente</th>\n",
       "      <th>naam</th>\n",
       "      <th>geslacht</th>\n",
       "      <th>verwachte datum</th>\n",
       "      <th>werkelijke_datum</th>\n",
       "      <th>error_reason</th>\n",
       "    </tr>\n",
       "  </thead>\n",
       "  <tbody>\n",
       "    <tr>\n",
       "      <th>0</th>\n",
       "      <td>Kruisem</td>\n",
       "      <td>Patrick</td>\n",
       "      <td>Mannelijk</td>\n",
       "      <td>02/27/2019</td>\n",
       "      <td>2019-2-29</td>\n",
       "      <td>no valid birthday</td>\n",
       "    </tr>\n",
       "    <tr>\n",
       "      <th>1</th>\n",
       "      <td>Montigny-le-Tilleul</td>\n",
       "      <td>Sarah</td>\n",
       "      <td>Vrouwelijk</td>\n",
       "      <td>03/11/2019</td>\n",
       "      <td>2019-2-29</td>\n",
       "      <td>no valid birthday</td>\n",
       "    </tr>\n",
       "    <tr>\n",
       "      <th>2</th>\n",
       "      <td>Diepenbeek</td>\n",
       "      <td>Valentinus</td>\n",
       "      <td>Mannelijk</td>\n",
       "      <td>03/02/2019</td>\n",
       "      <td>2019-2-29</td>\n",
       "      <td>no valid birthday</td>\n",
       "    </tr>\n",
       "    <tr>\n",
       "      <th>3</th>\n",
       "      <td>Sint-Jans-Molenbeek</td>\n",
       "      <td>El</td>\n",
       "      <td>Mannelijk</td>\n",
       "      <td>02/27/2019</td>\n",
       "      <td>2019-2-29</td>\n",
       "      <td>no valid birthday</td>\n",
       "    </tr>\n",
       "    <tr>\n",
       "      <th>4</th>\n",
       "      <td>Overijse</td>\n",
       "      <td>Apolline</td>\n",
       "      <td>Vrouwelijk</td>\n",
       "      <td>03/03/2019</td>\n",
       "      <td>2019-2-29</td>\n",
       "      <td>no valid birthday</td>\n",
       "    </tr>\n",
       "    <tr>\n",
       "      <th>...</th>\n",
       "      <td>...</td>\n",
       "      <td>...</td>\n",
       "      <td>...</td>\n",
       "      <td>...</td>\n",
       "      <td>...</td>\n",
       "      <td>...</td>\n",
       "    </tr>\n",
       "    <tr>\n",
       "      <th>1525</th>\n",
       "      <td>Oostende</td>\n",
       "      <td>Magali</td>\n",
       "      <td>Vrouwelijk</td>\n",
       "      <td>07/15/2019</td>\n",
       "      <td>2019-7-1</td>\n",
       "      <td>hier moet ik nog de conversie maken naar het j...</td>\n",
       "    </tr>\n",
       "    <tr>\n",
       "      <th>1526</th>\n",
       "      <td>Rotselaar</td>\n",
       "      <td>Jean</td>\n",
       "      <td>Mannelijk</td>\n",
       "      <td>06/30/2019</td>\n",
       "      <td>2019-7-1</td>\n",
       "      <td>hier moet ik nog de conversie maken naar het j...</td>\n",
       "    </tr>\n",
       "    <tr>\n",
       "      <th>1527</th>\n",
       "      <td>Brussel</td>\n",
       "      <td>Lina</td>\n",
       "      <td>Vrouwelijk</td>\n",
       "      <td>07/11/2019</td>\n",
       "      <td>2019-7-1</td>\n",
       "      <td>hier moet ik nog de conversie maken naar het j...</td>\n",
       "    </tr>\n",
       "    <tr>\n",
       "      <th>1528</th>\n",
       "      <td>Hamont-Achel</td>\n",
       "      <td>Brenda</td>\n",
       "      <td>Vrouwelijk</td>\n",
       "      <td>06/25/2019</td>\n",
       "      <td>2019-7-1</td>\n",
       "      <td>hier moet ik nog de conversie maken naar het j...</td>\n",
       "    </tr>\n",
       "    <tr>\n",
       "      <th>1529</th>\n",
       "      <td>Chièvres</td>\n",
       "      <td>Dominique</td>\n",
       "      <td>Mannelijk</td>\n",
       "      <td>07/05/2019</td>\n",
       "      <td>2019-7-1</td>\n",
       "      <td>hier moet ik nog de conversie maken naar het j...</td>\n",
       "    </tr>\n",
       "  </tbody>\n",
       "</table>\n",
       "<p>1530 rows × 6 columns</p>\n",
       "</div>"
      ],
      "text/plain": [
       "                 gemeente        naam    geslacht verwachte datum  \\\n",
       "0                 Kruisem     Patrick   Mannelijk      02/27/2019   \n",
       "1     Montigny-le-Tilleul       Sarah  Vrouwelijk      03/11/2019   \n",
       "2              Diepenbeek  Valentinus   Mannelijk      03/02/2019   \n",
       "3     Sint-Jans-Molenbeek          El   Mannelijk      02/27/2019   \n",
       "4                Overijse    Apolline  Vrouwelijk      03/03/2019   \n",
       "...                   ...         ...         ...             ...   \n",
       "1525             Oostende      Magali  Vrouwelijk      07/15/2019   \n",
       "1526            Rotselaar        Jean   Mannelijk      06/30/2019   \n",
       "1527              Brussel        Lina  Vrouwelijk      07/11/2019   \n",
       "1528         Hamont-Achel      Brenda  Vrouwelijk      06/25/2019   \n",
       "1529             Chièvres   Dominique   Mannelijk      07/05/2019   \n",
       "\n",
       "     werkelijke_datum                                       error_reason  \n",
       "0           2019-2-29                                  no valid birthday  \n",
       "1           2019-2-29                                  no valid birthday  \n",
       "2           2019-2-29                                  no valid birthday  \n",
       "3           2019-2-29                                  no valid birthday  \n",
       "4           2019-2-29                                  no valid birthday  \n",
       "...               ...                                                ...  \n",
       "1525         2019-7-1  hier moet ik nog de conversie maken naar het j...  \n",
       "1526         2019-7-1  hier moet ik nog de conversie maken naar het j...  \n",
       "1527         2019-7-1  hier moet ik nog de conversie maken naar het j...  \n",
       "1528         2019-7-1  hier moet ik nog de conversie maken naar het j...  \n",
       "1529         2019-7-1  hier moet ik nog de conversie maken naar het j...  \n",
       "\n",
       "[1530 rows x 6 columns]"
      ]
     },
     "execution_count": 10,
     "metadata": {},
     "output_type": "execute_result"
    }
   ],
   "source": [
    "wrong_df"
   ]
  },
  {
   "cell_type": "markdown",
   "metadata": {},
   "source": [
    "Maak dezelfde plot nu opnieuw met het aantal geboortes per dag."
   ]
  },
  {
   "cell_type": "code",
   "execution_count": 11,
   "metadata": {},
   "outputs": [
    {
     "data": {
      "text/plain": [
       "Text(0.5, 0, 'dag van het jaar')"
      ]
     },
     "execution_count": 11,
     "metadata": {},
     "output_type": "execute_result"
    },
    {
     "data": {
      "image/png": "[encoded data removed]",
      "text/plain": [
       "<Figure size 1200x400 with 1 Axes>"
      ]
     },
     "metadata": {},
     "output_type": "display_data"
    }
   ],
   "source": [
    "fig, ax = plt.subplots(figsize = (12,4))\n",
    "\n",
    "ax.spines['right'].set_visible(False)\n",
    "ax.spines['top'].set_visible(False)\n",
    "plt.plot(df_zonder_outliers[\"day_of_year\"], df_zonder_outliers[\"aantal geboortes\"])\n",
    "plt.xlabel(\"dag van het jaar\")"
   ]
  },
  {
   "cell_type": "markdown",
   "metadata": {},
   "source": [
    " We zien dat er nog steeds redelijk wat uitschieters zijn, kan je code schrijven om de 5 extreme uitschieters in de 2e helft van het jaar identificeren (in totaal 8 datums)?"
   ]
  },
  {
   "cell_type": "code",
   "execution_count": 13,
   "metadata": {},
   "outputs": [],
   "source": [
    "# define outliers that are below a certain z score ... \n",
    "\n",
    "\n",
    "\n",
    "mean = df_zonder_outliers['aantal geboortes'].mean()\n",
    "std_dev = df_zonder_outliers['aantal geboortes'].std()\n",
    "\n",
    "# Calculate z-scores\n",
    "df_zonder_outliers['z_score'] = (df_zonder_outliers['aantal geboortes'] - mean) / std_dev\n",
    "\n",
    "# Identify outliers based on z-scores\n",
    "df_outliers = df_zonder_outliers[df_zonder_outliers['z_score'] < - 2.5 ].copy()"
   ]
  },
  {
   "cell_type": "code",
   "execution_count": 14,
   "metadata": {},
   "outputs": [
    {
     "data": {
      "text/html": [
       "<div>\n",
       "<style scoped>\n",
       "    .dataframe tbody tr th:only-of-type {\n",
       "        vertical-align: middle;\n",
       "    }\n",
       "\n",
       "    .dataframe tbody tr th {\n",
       "        vertical-align: top;\n",
       "    }\n",
       "\n",
       "    .dataframe thead th {\n",
       "        text-align: right;\n",
       "    }\n",
       "</style>\n",
       "<table border=\"1\" class=\"dataframe\">\n",
       "  <thead>\n",
       "    <tr style=\"text-align: right;\">\n",
       "      <th></th>\n",
       "      <th>day_of_year</th>\n",
       "      <th>aantal geboortes</th>\n",
       "      <th>z_score</th>\n",
       "    </tr>\n",
       "  </thead>\n",
       "  <tbody>\n",
       "    <tr>\n",
       "      <th>201</th>\n",
       "      <td>202</td>\n",
       "      <td>281</td>\n",
       "      <td>-2.910996</td>\n",
       "    </tr>\n",
       "    <tr>\n",
       "      <th>226</th>\n",
       "      <td>227</td>\n",
       "      <td>286</td>\n",
       "      <td>-2.516414</td>\n",
       "    </tr>\n",
       "    <tr>\n",
       "      <th>304</th>\n",
       "      <td>305</td>\n",
       "      <td>265</td>\n",
       "      <td>-4.173660</td>\n",
       "    </tr>\n",
       "    <tr>\n",
       "      <th>305</th>\n",
       "      <td>306</td>\n",
       "      <td>282</td>\n",
       "      <td>-2.832080</td>\n",
       "    </tr>\n",
       "    <tr>\n",
       "      <th>314</th>\n",
       "      <td>315</td>\n",
       "      <td>267</td>\n",
       "      <td>-4.015827</td>\n",
       "    </tr>\n",
       "    <tr>\n",
       "      <th>357</th>\n",
       "      <td>358</td>\n",
       "      <td>283</td>\n",
       "      <td>-2.753163</td>\n",
       "    </tr>\n",
       "    <tr>\n",
       "      <th>358</th>\n",
       "      <td>359</td>\n",
       "      <td>266</td>\n",
       "      <td>-4.094743</td>\n",
       "    </tr>\n",
       "    <tr>\n",
       "      <th>359</th>\n",
       "      <td>360</td>\n",
       "      <td>285</td>\n",
       "      <td>-2.595330</td>\n",
       "    </tr>\n",
       "  </tbody>\n",
       "</table>\n",
       "</div>"
      ],
      "text/plain": [
       "     day_of_year  aantal geboortes   z_score\n",
       "201          202               281 -2.910996\n",
       "226          227               286 -2.516414\n",
       "304          305               265 -4.173660\n",
       "305          306               282 -2.832080\n",
       "314          315               267 -4.015827\n",
       "357          358               283 -2.753163\n",
       "358          359               266 -4.094743\n",
       "359          360               285 -2.595330"
      ]
     },
     "execution_count": 14,
     "metadata": {},
     "output_type": "execute_result"
    }
   ],
   "source": [
    "df_outliers"
   ]
  },
  {
   "cell_type": "markdown",
   "metadata": {},
   "source": [
    "We zien dat er nog steeds redelijk wat uitschieters zijn, kan je code schrijven om de 5 extreme uitschieters in de 2e helft van het jaar identificeren (in totaal 8 datums)?"
   ]
  },
  {
   "cell_type": "code",
   "execution_count": null,
   "metadata": {},
   "outputs": [],
   "source": []
  },
  {
   "cell_type": "markdown",
   "metadata": {},
   "source": [
    "### Bonusvraag: wekelijkse verbanden\n",
    "\n",
    "We zien vele pieken en dalen in de evolutie van het aantal geboortes. We willen deze grafiek graag iets \"gladder\" maken. Kan je hiervoor eens een visualizatie maken van het **gemiddeld** aantal geboortes per week (dit voor elke week, dus maandag-maandag, dinsdag-dinsdag, woensdag-woensdag, ...)."
   ]
  },
  {
   "cell_type": "code",
   "execution_count": 15,
   "metadata": {},
   "outputs": [
    {
     "data": {
      "text/plain": [
       "Text(0.5, 0, 'dag van het jaar')"
      ]
     },
     "execution_count": 15,
     "metadata": {},
     "output_type": "execute_result"
    },
    {
     "data": {
      "image/png": "[encoded data removed]",
      "text/plain": [
       "<Figure size 1200x400 with 1 Axes>"
      ]
     },
     "metadata": {},
     "output_type": "display_data"
    }
   ],
   "source": [
    "# first add the actual date \n",
    "\n",
    "# Function to construct the date\n",
    "def construct_date(row):\n",
    "    day_of_year = row['day_of_year']\n",
    "    return datetime.datetime(2019, 1, 1) + datetime.timedelta(days=day_of_year - 1)\n",
    "\n",
    "# Apply the function to construct the date for each row\n",
    "df_zonder_outliers['geboorte datum'] = df_zonder_outliers.apply(lambda row: construct_date(row), axis=1)\n",
    "\n",
    "# Set the 'date' column as the index\n",
    "df_zonder_outliers.set_index('geboorte datum', inplace=True)\n",
    "\n",
    "# Calculate the rolling 7-day average\n",
    "df_zonder_outliers['rolling_avg_aantal_geboortes_7d'] = df_zonder_outliers['aantal geboortes'].rolling(window='7D').mean()\n",
    "\n",
    "\n",
    "\n",
    "fig, ax = plt.subplots(figsize = (12,4))\n",
    "\n",
    "ax.spines['right'].set_visible(False)\n",
    "ax.spines['top'].set_visible(False)\n",
    "plt.plot(df_zonder_outliers[\"day_of_year\"], df_zonder_outliers[\"rolling_avg_aantal_geboortes_7d\"])\n",
    "plt.xlabel(\"dag van het jaar\")\n"
   ]
  },
  {
   "cell_type": "markdown",
   "metadata": {},
   "source": [
    "Dat ziet er al een stuk mooier uit!  We zien ook een aantal duidelijk dips & pieken verschijnen die we eerder niet zagen. We kunnen nu ook even kijken naar het gemiddeld aantal geboortes per dag van de week! Misschien worden er wel gewoon veel minder mensen geboren op zondag dan een andere dag?"
   ]
  },
  {
   "cell_type": "code",
   "execution_count": 17,
   "metadata": {},
   "outputs": [],
   "source": [
    "df_zonder_outliers = df_zonder_outliers.reset_index()\n",
    "df_zonder_outliers['day_of_week'] = df_zonder_outliers['geboorte datum'].dt.day_name()"
   ]
  },
  {
   "cell_type": "code",
   "execution_count": 18,
   "metadata": {},
   "outputs": [
    {
     "data": {
      "text/html": [
       "<div>\n",
       "<style scoped>\n",
       "    .dataframe tbody tr th:only-of-type {\n",
       "        vertical-align: middle;\n",
       "    }\n",
       "\n",
       "    .dataframe tbody tr th {\n",
       "        vertical-align: top;\n",
       "    }\n",
       "\n",
       "    .dataframe thead th {\n",
       "        text-align: right;\n",
       "    }\n",
       "</style>\n",
       "<table border=\"1\" class=\"dataframe\">\n",
       "  <thead>\n",
       "    <tr style=\"text-align: right;\">\n",
       "      <th></th>\n",
       "      <th>geboorte datum</th>\n",
       "      <th>day_of_year</th>\n",
       "      <th>aantal geboortes</th>\n",
       "      <th>z_score</th>\n",
       "      <th>rolling_avg_aantal_geboortes_7d</th>\n",
       "      <th>day_of_week</th>\n",
       "    </tr>\n",
       "  </thead>\n",
       "  <tbody>\n",
       "    <tr>\n",
       "      <th>0</th>\n",
       "      <td>2019-01-02</td>\n",
       "      <td>2</td>\n",
       "      <td>310</td>\n",
       "      <td>-0.622418</td>\n",
       "      <td>310.000000</td>\n",
       "      <td>Wednesday</td>\n",
       "    </tr>\n",
       "    <tr>\n",
       "      <th>1</th>\n",
       "      <td>2019-01-03</td>\n",
       "      <td>3</td>\n",
       "      <td>317</td>\n",
       "      <td>-0.070003</td>\n",
       "      <td>313.500000</td>\n",
       "      <td>Thursday</td>\n",
       "    </tr>\n",
       "    <tr>\n",
       "      <th>2</th>\n",
       "      <td>2019-01-04</td>\n",
       "      <td>4</td>\n",
       "      <td>319</td>\n",
       "      <td>0.087830</td>\n",
       "      <td>315.333333</td>\n",
       "      <td>Friday</td>\n",
       "    </tr>\n",
       "    <tr>\n",
       "      <th>3</th>\n",
       "      <td>2019-01-05</td>\n",
       "      <td>5</td>\n",
       "      <td>330</td>\n",
       "      <td>0.955911</td>\n",
       "      <td>319.000000</td>\n",
       "      <td>Saturday</td>\n",
       "    </tr>\n",
       "    <tr>\n",
       "      <th>4</th>\n",
       "      <td>2019-01-06</td>\n",
       "      <td>6</td>\n",
       "      <td>314</td>\n",
       "      <td>-0.306752</td>\n",
       "      <td>318.000000</td>\n",
       "      <td>Sunday</td>\n",
       "    </tr>\n",
       "    <tr>\n",
       "      <th>...</th>\n",
       "      <td>...</td>\n",
       "      <td>...</td>\n",
       "      <td>...</td>\n",
       "      <td>...</td>\n",
       "      <td>...</td>\n",
       "      <td>...</td>\n",
       "    </tr>\n",
       "    <tr>\n",
       "      <th>358</th>\n",
       "      <td>2019-12-27</td>\n",
       "      <td>361</td>\n",
       "      <td>315</td>\n",
       "      <td>-0.227836</td>\n",
       "      <td>297.142857</td>\n",
       "      <td>Friday</td>\n",
       "    </tr>\n",
       "    <tr>\n",
       "      <th>359</th>\n",
       "      <td>2019-12-28</td>\n",
       "      <td>362</td>\n",
       "      <td>313</td>\n",
       "      <td>-0.385669</td>\n",
       "      <td>297.714286</td>\n",
       "      <td>Saturday</td>\n",
       "    </tr>\n",
       "    <tr>\n",
       "      <th>360</th>\n",
       "      <td>2019-12-29</td>\n",
       "      <td>363</td>\n",
       "      <td>310</td>\n",
       "      <td>-0.622418</td>\n",
       "      <td>297.571429</td>\n",
       "      <td>Sunday</td>\n",
       "    </tr>\n",
       "    <tr>\n",
       "      <th>361</th>\n",
       "      <td>2019-12-30</td>\n",
       "      <td>364</td>\n",
       "      <td>312</td>\n",
       "      <td>-0.464585</td>\n",
       "      <td>297.714286</td>\n",
       "      <td>Monday</td>\n",
       "    </tr>\n",
       "    <tr>\n",
       "      <th>362</th>\n",
       "      <td>2019-12-31</td>\n",
       "      <td>365</td>\n",
       "      <td>309</td>\n",
       "      <td>-0.701335</td>\n",
       "      <td>301.428571</td>\n",
       "      <td>Tuesday</td>\n",
       "    </tr>\n",
       "  </tbody>\n",
       "</table>\n",
       "<p>363 rows × 6 columns</p>\n",
       "</div>"
      ],
      "text/plain": [
       "    geboorte datum  day_of_year  aantal geboortes   z_score  \\\n",
       "0       2019-01-02            2               310 -0.622418   \n",
       "1       2019-01-03            3               317 -0.070003   \n",
       "2       2019-01-04            4               319  0.087830   \n",
       "3       2019-01-05            5               330  0.955911   \n",
       "4       2019-01-06            6               314 -0.306752   \n",
       "..             ...          ...               ...       ...   \n",
       "358     2019-12-27          361               315 -0.227836   \n",
       "359     2019-12-28          362               313 -0.385669   \n",
       "360     2019-12-29          363               310 -0.622418   \n",
       "361     2019-12-30          364               312 -0.464585   \n",
       "362     2019-12-31          365               309 -0.701335   \n",
       "\n",
       "     rolling_avg_aantal_geboortes_7d day_of_week  \n",
       "0                         310.000000   Wednesday  \n",
       "1                         313.500000    Thursday  \n",
       "2                         315.333333      Friday  \n",
       "3                         319.000000    Saturday  \n",
       "4                         318.000000      Sunday  \n",
       "..                               ...         ...  \n",
       "358                       297.142857      Friday  \n",
       "359                       297.714286    Saturday  \n",
       "360                       297.571429      Sunday  \n",
       "361                       297.714286      Monday  \n",
       "362                       301.428571     Tuesday  \n",
       "\n",
       "[363 rows x 6 columns]"
      ]
     },
     "execution_count": 18,
     "metadata": {},
     "output_type": "execute_result"
    }
   ],
   "source": [
    "df_zonder_outliers"
   ]
  },
  {
   "cell_type": "code",
   "execution_count": 20,
   "metadata": {},
   "outputs": [
    {
     "data": {
      "text/plain": [
       "Text(0.5, 0, 'dag van het jaar')"
      ]
     },
     "execution_count": 20,
     "metadata": {},
     "output_type": "execute_result"
    },
    {
     "data": {
      "image/png": "[encoded data removed]",
      "text/plain": [
       "<Figure size 1200x400 with 1 Axes>"
      ]
     },
     "metadata": {},
     "output_type": "display_data"
    }
   ],
   "source": [
    "# Calculate average values for each weekday\n",
    "average_geboortes_per_weekday = df_zonder_outliers.groupby('day_of_week')['aantal geboortes'].mean()\n",
    "\n",
    "#volgorde terug goed krijgen \n",
    "custom_order = ['Monday', 'Tuesday', 'Wednesday', 'Thursday', 'Friday', 'Saturday', 'Sunday']\n",
    "average_geboortes_per_weekday = average_geboortes_per_weekday.reindex(custom_order)\n",
    "\n",
    "\n",
    "fig, ax = plt.subplots(figsize = (12,4))\n",
    "\n",
    "ax.spines['right'].set_visible(False)\n",
    "ax.spines['top'].set_visible(False)\n",
    "\n",
    "# Plot the bar chart\n",
    "plt.bar(average_geboortes_per_weekday.index, average_geboortes_per_weekday.values, color='blue')\n",
    "\n",
    "plt.xlabel(\"dag van het jaar\")"
   ]
  },
  {
   "cell_type": "code",
   "execution_count": null,
   "metadata": {},
   "outputs": [],
   "source": []
  }
 ],
 "metadata": {
  "kernelspec": {
   "display_name": "Python 3 (ipykernel)",
   "language": "python",
   "name": "python3"
  },
  "language_info": {
   "codemirror_mode": {
    "name": "ipython",
    "version": 3
   },
   "file_extension": ".py",
   "mimetype": "text/x-python",
   "name": "python",
   "nbconvert_exporter": "python",
   "pygments_lexer": "ipython3",
   "version": "3.11.4"
  }
 },
 "nbformat": 4,
 "nbformat_minor": 2
}
